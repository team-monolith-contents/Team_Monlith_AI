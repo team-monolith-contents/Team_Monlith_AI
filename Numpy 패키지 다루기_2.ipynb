{
 "cells": [
  {
   "cell_type": "markdown",
   "id": "7ba184e0",
   "metadata": {},
   "source": [
    "![numpy로고](./numpy_1-1.JPG)"
   ]
  },
  {
   "cell_type": "markdown",
   "id": "6ac637bd",
   "metadata": {},
   "source": [
    "# 앞 시간에서 다루었듯 Numpy라는 이름은\n",
    "# Numerical(Num) + Python(Py)\n",
    "# numerical(숫자의, 수의)이라는 단어와 python(파이썬)이라는 단어가 합쳐져 이름이 지어졌습니다."
   ]
  },
  {
   "cell_type": "markdown",
   "id": "0f7a69c5",
   "metadata": {},
   "source": [
    "#### numpy를 이용한 배열의 간단한 수정 및 생성을 해보았다면, 이제부터는 조금더 심화된 함수들을 다루어보겠습니다."
   ]
  },
  {
   "cell_type": "markdown",
   "id": "d600367f",
   "metadata": {},
   "source": [
    "![numpy operation](./numpy_2-1.jpg)"
   ]
  },
  {
   "cell_type": "markdown",
   "id": "590312eb",
   "metadata": {},
   "source": [
    "#### 위 그림은 2개의 1차원 숫자 데이터로 이루어진 데이터끼리 병합하는 모습을 보여주고 있습니다. 데이터를 다룰 때는 이처럼 데이터를 자르거나 병합하고 원하는 연산을 해야할 때가 많습니다.\n",
    "\n",
    "#### 이와 같은 작업을 하기 위해 필요한 함수를 알아보겠습니다.\n",
    "\n",
    "    1. sum, mean, sqrt, power: 배열 안에 있는 요소들의 모든 합, 평균, 제곱근, 거듭제곱 등을 구해줍니다.\n",
    "    2. dot product, vector product: 두 배열 간의 내적과 외적을 구합니다.\n",
    "    3. concat, hstack, vstack, dstack: 두 배열을 특정 축으로 합해줍니다.\n",
    "    4. broadcasting: 배열간의 사칙연산에는 브로드캐스팅(Broadcasting)이라는 기법이 활용됩니다.\n",
    "    5. all, any: 배열간의 비교 연산을 해주는 함수입니다. 기본적으로 불리언(boolean)으로 배열간 비교 연산의 결과값이 주어집니다.\n",
    "                 (*boolean: True, False 데이터 타입)\n",
    "    6. min, max, argmax, argmin: 배열 안에 있는 숫자들의 대소 비교를 해줍니다.\n",
    "    7. load, loadtxt, save: 숫자 데이터를 배열로 저장하거나 불러올 수 있습니다"
   ]
  },
  {
   "cell_type": "code",
   "execution_count": null,
   "id": "026d7970",
   "metadata": {},
   "outputs": [],
   "source": [
    "# sum 함수에 대해 구해보기\n",
    "\n",
    "arr = np.arange(1,11).reshape(2,5) # (2, 5) 형태의 배열을 생성\n",
    "print(\"(2, 5) 형태의 배열을 생성: \\n\", arr)\n",
    "\n",
    "arr.sum(axis=0) # 0번 축을 기준으로 더하기\n",
    "print(\"0번 축을 기준으로 더하기: \\n\", arr)\n",
    "\n",
    "arr.sum(axis=1) # 1번 축을 기준으로 더하기\n",
    "print(\"1번 축을 기준으로 더하기: \\n\", arr)\n",
    "\n",
    "arr = np.arange(1,28).reshape(3,3,3) # (3, 3, 3) 형태의 배열을 생성\n",
    "print(\"(3, 3, 3) 형태의 배열을 생성: \\n\", arr)\n",
    "\n",
    "# 0, 1, 2 축 기준으로 더하기 \n",
    "arr.sum(axis=0)\n",
    "print(\"0번 축을 기준으로 더하기: \\n\", arr)\n",
    "\n",
    "arr.sum(axis=1)\n",
    "print(\"1번 축을 기준으로 더하기: \\n\", arr)\n",
    "\n",
    "arr.sum(axis=2)\n",
    "print(\"2번 축을 기준으로 더하기: \\n\", arr)"
   ]
  },
  {
   "cell_type": "code",
   "execution_count": 88,
   "id": "5181f713",
   "metadata": {},
   "outputs": [
    {
     "name": "stdout",
     "output_type": "stream",
     "text": [
      "리스트를 입력하세요. 예시) [1,2,3,4]\n",
      ": [1,2,3]\n",
      "생성된 배열\n",
      ":  [1 2 3]\n",
      "생성된 배열의 모든 합:  6\n"
     ]
    }
   ],
   "source": [
    "# 예제 1\n",
    "input_data = list(map(int, input(\"리스트를 입력하세요. 예시) [1,2,3,4]\\n: \").split('[')[-1].split(']')[0].split(',')))\n",
    "arr = np.array(input_data)\n",
    "\n",
    "print(\"생성된 배열\\n: \", arr)\n",
    "print(\"생성된 배열의 모든 합: \", arr.sum())"
   ]
  },
  {
   "cell_type": "code",
   "execution_count": 33,
   "id": "401a6c43",
   "metadata": {},
   "outputs": [
    {
     "name": "stdout",
     "output_type": "stream",
     "text": [
      "(5, 10) 형태의 배열을 생성: \n",
      " [[ 1  2  3  4  5  6  7  8  9 10]\n",
      " [11 12 13 14 15 16 17 18 19 20]\n",
      " [21 22 23 24 25 26 27 28 29 30]\n",
      " [31 32 33 34 35 36 37 38 39 40]\n",
      " [41 42 43 44 45 46 47 48 49 50]]\n",
      "모든 숫자의 평균:  25.5\n",
      "0번 축을 기준으로 평균:  [21. 22. 23. 24. 25. 26. 27. 28. 29. 30.]\n",
      "[4, 9, 16, 25] 배열의 각 값의 제곱근 구하기:  [2. 3. 4. 5.]\n",
      "[1, 2, 3, 4] 배열의 2 거듭제곱 구하기:  [ 1  4  9 16]\n",
      "[1, 2, 3, 4] 배열의 3 거듭제곱 구하기:  [ 1  8 27 64]\n"
     ]
    }
   ],
   "source": [
    "#  mean 함수 활용\n",
    "arr = np.arange(1, 51).reshape(5, 10)\n",
    "print(\"(5, 10) 형태의 배열을 생성: \\n\", arr)\n",
    "\n",
    "print(\"모든 숫자의 평균: \", arr.mean())\n",
    "print(\"0번 축을 기준으로 평균: \", arr.mean(axis=0))\n",
    "\n",
    "#  sqrt 함수 활용\n",
    "arr = np.array([4, 9, 16, 25]) \n",
    "print(\"[4, 9, 16, 25] 배열의 각 값의 제곱근 구하기: \", np.sqrt(arr))\n",
    "\n",
    "# power 함수 활용\n",
    "arr = np.array([1, 2, 3, 4]) \n",
    "print(\"[1, 2, 3, 4] 배열의 2 거듭제곱 구하기: \", np.power(arr, 2))\n",
    "print(\"[1, 2, 3, 4] 배열의 3 거듭제곱 구하기: \", np.power(arr, 3))"
   ]
  },
  {
   "cell_type": "code",
   "execution_count": 89,
   "id": "9d434b48",
   "metadata": {},
   "outputs": [
    {
     "name": "stdout",
     "output_type": "stream",
     "text": [
      "리스트를 입력하세요. 예시) [1,2,3,4]\n",
      ": [1,2,3]\n",
      "생성된 배열의 각 요소의 4 거듭제곱\n",
      ":  [ 1 16 81]\n",
      "생성된 배열의 모든 요소의 평균:  2.0\n"
     ]
    }
   ],
   "source": [
    "# 예제 2\n",
    "\n",
    "input_data = list(map(int, input(\"리스트를 입력하세요. 예시) [1,2,3,4]\\n: \").split('[')[-1].split(']')[0].split(',')))\n",
    "arr = np.array(input_data)\n",
    "\n",
    "print(\"생성된 배열의 각 요소의 4 거듭제곱\\n: \", np.power(arr,4))\n",
    "print(\"생성된 배열의 모든 요소의 평균: \", arr.mean())"
   ]
  },
  {
   "cell_type": "markdown",
   "id": "ba9745c3",
   "metadata": {},
   "source": [
    "![numpy concatenate](./numpy_2-2.jpg)"
   ]
  },
  {
   "cell_type": "markdown",
   "id": "db135a3d",
   "metadata": {},
   "source": [
    "## 위 그림처럼 숫자 데이터들을 여러가지 방식으로 합쳐야 할 때가 많습니다. \n",
    "## 이번에는 이를 위한 함수를 알아보겠습니다."
   ]
  },
  {
   "cell_type": "code",
   "execution_count": 53,
   "id": "d6acbac5",
   "metadata": {},
   "outputs": [
    {
     "name": "stdout",
     "output_type": "stream",
     "text": [
      "[(3,3,3) 형태의 배열 생성]\n",
      " [[[ 1  2  3]\n",
      "  [ 4  5  6]\n",
      "  [ 7  8  9]]\n",
      "\n",
      " [[10 11 12]\n",
      "  [13 14 15]\n",
      "  [16 17 18]]\n",
      "\n",
      " [[19 20 21]\n",
      "  [22 23 24]\n",
      "  [25 26 27]]]\n",
      "\n",
      "배열의 형태 확인:  (6, 3, 3)\n",
      "배열의 형태 확인:  (3, 6, 3)\n",
      "배열의 형태 확인:  (3, 3, 6)\n",
      "배열의 형태 확인:  (6, 3, 3)\n"
     ]
    }
   ],
   "source": [
    "# hstack, vstack, dstack, concatenate\n",
    "\n",
    "arr_1 = np.arange(1, 28).reshape(3,3,3)\n",
    "arr_2 = np.arange(31, 58).reshape(3,3,3)\n",
    "print(\"[(3,3,3) 형태의 배열 생성]\\n\", arr)\n",
    "\n",
    "vstack_arr = np.vstack((arr_1, arr_2)) # 0번 축으로 두 배열을 합치기 \n",
    "print(\"\\n배열의 형태 확인: \", vstack_arr.shape)\n",
    "\n",
    "hstack_arr = np.hstack((arr_1, arr_2)) # 1번 축으로 두 배열을 합치기 \n",
    "print(\"배열의 형태 확인: \", hstack_arr.shape)\n",
    "\n",
    "dstack_arr = np.dstack((arr_1, arr_2)) # 2번 축으로 두 배열을 합치기 \n",
    "print(\"배열의 형태 확인: \", dstack_arr.shape)\n",
    "\n",
    "concat_arr = np.concatenate((arr_1, arr_2) ,axis=0) # 붙이는 축을 사용자가 임의로 정하기\n",
    "print(\"배열의 형태 확인: \", concat_arr.shape)\n"
   ]
  },
  {
   "cell_type": "code",
   "execution_count": 98,
   "id": "874eb0ca",
   "metadata": {},
   "outputs": [
    {
     "name": "stdout",
     "output_type": "stream",
     "text": [
      "리스트를 입력하세요(배열1 생성). 예시) [1,2,3,4]\n",
      ": [1,2,3]\n",
      "리스트를 입력하세요(배열2 생성). 예시) [1,2,3,4]\n",
      ": [1,2,3]\n",
      "배열의 형태 확인:  (2, 3)\n",
      "배열의 형태 확인:  (6,)\n",
      "배열의 형태 확인:  (6,)\n"
     ]
    }
   ],
   "source": [
    "# 예제3\n",
    "\n",
    "input_data = list(map(int, input(\"리스트를 입력하세요(배열1 생성). 예시) [1,2,3,4]\\n: \").split('[')[-1].split(']')[0].split(',')))\n",
    "arr_1 = np.array(input_data)\n",
    "input_data = list(map(int, input(\"리스트를 입력하세요(배열2 생성). 예시) [1,2,3,4]\\n: \").split('[')[-1].split(']')[0].split(',')))\n",
    "arr_2 = np.array(input_data)\n",
    "\n",
    "vstack_arr = np.vstack((arr_1, arr_2)) # 0번 축으로 두 배열을 합치기 \n",
    "print(\"배열의 형태 확인: \", vstack_arr.shape)\n",
    "\n",
    "hstack_arr = np.hstack((arr_1, arr_2)) # 1번 축으로 두 배열을 합치기 (두 배열이 1차원 배열인 경우 옆으로 이어붙인다)\n",
    "print(\"배열의 형태 확인: \", hstack_arr.shape)\n",
    "\n",
    "concat_arr = np.concatenate((arr_1, arr_2) ,axis=0) # Concatenate으로 0번 축으로 합치기(두 배열이 1차원 배열인 경우 옆으로 이어붙인다)\n",
    "print(\"배열의 형태 확인: \", concat_arr.shape)\n"
   ]
  },
  {
   "cell_type": "markdown",
   "id": "0178a47e",
   "metadata": {},
   "source": [
    "## 배열간의 사칙연산. \n",
    "\n",
    "    배엵 간의 연산은 기본적으로 같은 요소간(elememt-wise)에 이루어집니다. 예를 들어 [1, 2, 3] + [2, 3, 1]의 연산을 하면,\n",
    "    [3, 5, 4]라는 배열이 결과값으로 나오게 됩니다. 따라서 기본적으로 같은 형태의 배열끼리 연산하는 것이 기본입니다.\n",
    "    \n",
    "    하지만 형태가 다르더라도 연산할 수 있도록 하는 기능이 있는데, 이를 브로드캐스팅이라고 합니다.\n",
    "    브로드캐스팅(Broadcasting)이라는 연산이 배열 간의 사칙 연산에서는 자주 활용됩니다.먼저 아래 그림을 통해 어떤 연산인지 확인해보겠습니다."
   ]
  },
  {
   "cell_type": "markdown",
   "id": "bd78de67",
   "metadata": {},
   "source": [
    "![numpy broadcasting](./numpy_2-3.png)"
   ]
  },
  {
   "cell_type": "markdown",
   "id": "d893591d",
   "metadata": {},
   "source": [
    "#### 위 그림을 보면, 최종적으로 구해지는 배열값은 동일하지만, 가운데줄과 가장 아랫줄의 연산은 자동으로 부족한 공간을 채워넣어 연산을 해주는 것을 볼 수 있습니다. \n",
    "#### 사람이 하나하나 형태를 맞춰주지 않아도 자동으로 해주어 매우 편리합니다. 이제부터 이를 활용한 연산을 해보겠습니다."
   ]
  },
  {
   "cell_type": "code",
   "execution_count": 62,
   "id": "8eda7702",
   "metadata": {},
   "outputs": [
    {
     "name": "stdout",
     "output_type": "stream",
     "text": [
      "- 두 배열의 생성 -\n",
      "배열 1:\n",
      " [[1 2 3]\n",
      " [1 2 3]]\n",
      "배열 2:\n",
      " [[1 1 1]\n",
      " [2 2 2]]\n",
      "배열 간 더하기\n",
      ":  [[2 3 4]\n",
      " [3 4 5]]\n",
      "배열 간 빼기\n",
      ":  [[ 0  1  2]\n",
      " [-1  0  1]]\n",
      "배열 간 곱하기\n",
      ":  [[1 2 3]\n",
      " [2 4 6]]\n",
      "배열 간 나누기\n",
      ":  [[1.  2.  3. ]\n",
      " [0.5 1.  1.5]]\n",
      "배열 - number 덧셈\n",
      " [[4. 5. 6.]\n",
      " [7. 8. 9.]]\n",
      "배열 - number 빼기\n",
      " [[-2. -1.  0.]\n",
      " [ 1.  2.  3.]]\n",
      "배열 * number 곱하기\n",
      " [[ 3.  6.  9.]\n",
      " [12. 15. 18.]]\n",
      "배열 / number 나누기\n",
      " [[0.33333333 0.66666667 1.        ]\n",
      " [1.33333333 1.66666667 2.        ]]\n",
      "배열 // number 몫\n",
      " [[0. 0. 1.]\n",
      " [1. 1. 2.]]\n",
      "배열 ** number 거듭제곱\n",
      " [[  1.   8.  27.]\n",
      " [ 64. 125. 216.]]\n"
     ]
    }
   ],
   "source": [
    "arr_1 = np.array([[1,2,3], [1,2,3]])\n",
    "arr_2 = np.array([[1,1,1], [2,2,2]])\n",
    "print(\"- 두 배열의 생성 -\")\n",
    "print(\"배열 1:\\n\", arr_1)\n",
    "print(\"배열 2:\\n\", arr_2)\n",
    "\n",
    "# 배열 간 사칙연산\n",
    "print(\"배열 간 더하기\\n: \", arr_1 + arr_2) \n",
    "print(\"배열 간 빼기\\n: \", arr_1 - arr_2) \n",
    "print(\"배열 간 곱하기\\n: \", arr_1 * arr_2)  \n",
    "print(\"배열 간 나누기\\n: \", arr_1 / arr_2) \n",
    "\n",
    "#### broadcasting\n",
    "arr = np.array([[1,2,3],[4,5,6]])\n",
    "number = 3\n",
    "\n",
    "# 배열 - number 더하기\n",
    "print(\"배열 - number 덧셈\\n\", arr + number)\n",
    "\n",
    "# 배열 - number 빼기\n",
    "print(\"배열 - number 빼기\\n\", arr - number)\n",
    "\n",
    "# 배열 * number 곱하기\n",
    "print(\"배열 * number 곱하기\\n\", arr * number)\n",
    "\n",
    "# 배열 / number 나누기\n",
    "print(\"배열 / number 나누기\\n\", arr / number)\n",
    "\n",
    "# 배열 // number 몫\n",
    "print(\"배열 // number 몫\\n\", arr // number)\n",
    "\n",
    "# 배열 ** number 거듭제곱\n",
    "print(\"배열 ** number 거듭제곱\\n\", arr ** number)\n"
   ]
  },
  {
   "cell_type": "code",
   "execution_count": 99,
   "id": "29147bc5",
   "metadata": {
    "scrolled": true
   },
   "outputs": [
    {
     "name": "stdout",
     "output_type": "stream",
     "text": [
      "리스트를 입력하세요(배열2 생성). 예시) [1,2,3,4]\n",
      ": [1,2,3]\n",
      "배열 - number 덧셈\n",
      " [3 4 5]\n",
      "배열 - number 빼기\n",
      " [-1  0  1]\n",
      "배열 * number 곱하기\n",
      " [2 4 6]\n",
      "배열 / number 나누기\n",
      " [0.5 1.  1.5]\n",
      "배열 // number 몫\n",
      " [0 1 1]\n",
      "배열 ** number 거듭제곱\n",
      " [1 4 9]\n"
     ]
    }
   ],
   "source": [
    "# 예제 4\n",
    "input_data = list(map(int, input(\"리스트를 입력하세요(배열2 생성). 예시) [1,2,3,4]\\n: \").split('[')[-1].split(']')[0].split(',')))\n",
    "arr = np.array(input_data)\n",
    "number = 2\n",
    "\n",
    "# 배열 - number 더하기\n",
    "print(\"배열 - number 덧셈\\n\", arr + number)\n",
    "\n",
    "# 배열 - number 빼기\n",
    "print(\"배열 - number 빼기\\n\", arr - number)\n",
    "\n",
    "# 배열 * number 곱하기\n",
    "print(\"배열 * number 곱하기\\n\", arr * number)\n",
    "\n",
    "# 배열 / number 나누기\n",
    "print(\"배열 / number 나누기\\n\", arr / number)\n",
    "\n",
    "# 배열 // number 몫\n",
    "print(\"배열 // number 몫\\n\", arr // number)\n",
    "\n",
    "# 배열 ** number 거듭제곱\n",
    "print(\"배열 ** number 거듭제곱\\n\", arr ** number)\n"
   ]
  },
  {
   "cell_type": "markdown",
   "id": "bd19d392",
   "metadata": {},
   "source": [
    "## Numpy 배열 간의 비교 연산도 할 수 있습니다. 이 때는 False, True로 결과값을 줍니다."
   ]
  },
  {
   "cell_type": "code",
   "execution_count": 73,
   "id": "7330c1ee",
   "metadata": {},
   "outputs": [
    {
     "name": "stdout",
     "output_type": "stream",
     "text": [
      "1~10까지로 구성된 배열 생성:  [ 1  2  3  4  5  6  7  8  9 10]\n",
      "5 보다 큰 수인지 아닌지 True와 False로 결과값을 주기:  [False False False False False  True  True  True  True  True]\n",
      "5 보다 큰 수가 1개라도 있는지:  True\n",
      "모든 수가 5 보다 큰지:  False\n",
      "모든 수가 -1 보다 큰지:  True\n",
      "\n",
      "- 두 배열을 비교 -\n",
      "배열 1:\n",
      " [1 3 0]\n",
      "배열 2:\n",
      " [5 2 0]\n",
      "배열끼리 각 요소 비교하기(arr_1보다 arr_2가 더 작은 값):  [False  True False]\n",
      "배열끼리 각 요소 비교하기(arr_1와 arr_2가 같은 값):  [False False  True]\n"
     ]
    }
   ],
   "source": [
    "arr = np.arange(1, 11)\n",
    "print(\"1~10까지로 구성된 배열 생성: \", arr)\n",
    "\n",
    "print(\"5 보다 큰 수인지 아닌지 True와 False로 결과값을 주기: \", arr>5)\n",
    "\n",
    "# any, all\n",
    "print(\"5 보다 큰 수가 1개라도 있는지: \", np.any(arr>5))\n",
    "print(\"모든 수가 5 보다 큰지: \", np.all(arr>5))\n",
    "print(\"모든 수가 -1 보다 큰지: \", np.all(arr>-1))\n",
    "\n",
    "# 배열끼리 비교할 수도 있습니다.\n",
    "print(\"\\n- 두 배열을 비교 -\")\n",
    "arr_1 = np.array([1, 3, 0])\n",
    "arr_2 = np.array([5, 2, 0])\n",
    "print(\"배열 1:\\n\", arr_1)\n",
    "print(\"배열 2:\\n\", arr_2)\n",
    "\n",
    "print(\"배열끼리 각 요소 비교하기(arr_1보다 arr_2가 더 작은 값): \", arr_1 > arr_2)\n",
    "print(\"배열끼리 각 요소 비교하기(arr_1와 arr_2가 같은 값): \", arr_1 == arr_2)\n",
    "\n"
   ]
  },
  {
   "cell_type": "code",
   "execution_count": 100,
   "id": "57cc7b2c",
   "metadata": {},
   "outputs": [
    {
     "name": "stdout",
     "output_type": "stream",
     "text": [
      "리스트를 입력하세요(배열2 생성). 예시) [1,2,3,4]\n",
      ": [-10, 10, 3, 20]\n",
      "생성된 배열\n",
      ":  [-10  10   3  20]\n",
      "8 보다 큰 수가 1개라도 있는지:  True\n",
      "모든 수가 -3 보다 큰지:  False\n"
     ]
    }
   ],
   "source": [
    "# 예제 5\n",
    "input_data = list(map(int, input(\"리스트를 입력하세요(배열2 생성). 예시) [1,2,3,4]\\n: \").split('[')[-1].split(']')[0].split(',')))\n",
    "arr = np.array(input_data)\n",
    "print(\"생성된 배열\\n: \", arr)\n",
    "\n",
    "# any, all\n",
    "print(\"8 보다 큰 수가 1개라도 있는지: \", np.any(arr>8))\n",
    "print(\"모든 수가 -3 보다 큰지: \", np.all(arr>-3))\n"
   ]
  },
  {
   "cell_type": "code",
   "execution_count": 79,
   "id": "7bb50520",
   "metadata": {},
   "outputs": [
    {
     "name": "stdout",
     "output_type": "stream",
     "text": [
      "1~100까지 자연수로 이루어진 배열:,  [  1   2   3   4   5   6   7   8   9  10  11  12  13  14  15  16  17  18\n",
      "  19  20  21  22  23  24  25  26  27  28  29  30  31  32  33  34  35  36\n",
      "  37  38  39  40  41  42  43  44  45  46  47  48  49  50  51  52  53  54\n",
      "  55  56  57  58  59  60  61  62  63  64  65  66  67  68  69  70  71  72\n",
      "  73  74  75  76  77  78  79  80  81  82  83  84  85  86  87  88  89  90\n",
      "  91  92  93  94  95  96  97  98  99 100]\n",
      "최대값:  100\n",
      "최소값:  1\n",
      "최대값이 있는 index:  99\n",
      "최소값이 있는 index:  0\n",
      "최소값의 index를 활용하여 배열의 최소값 출력:  1\n",
      "최대값의 index를 활용하여 배열의 최대값 출력:  6\n"
     ]
    }
   ],
   "source": [
    "# max, min, argmax, argmin\n",
    "arr = np.arange(1, 101, 1) # 1~100까지 자연수로 이루어진 배열\n",
    "print(\"1~100까지 자연수로 이루어진 배열:, \", arr)\n",
    "\n",
    "print(\"최대값: \", np.max(arr))\n",
    "print(\"최소값: \", np.min(arr))\n",
    "print(\"최대값이 있는 index: \", np.argmax(arr))\n",
    "print(\"최소값이 있는 index: \", np.argmin(arr))\n",
    "\n",
    "# argmin, argmax 활용\n",
    "arr = np.array([2,1,4,6])\n",
    "index_min = np.argmin(arr)\n",
    "index_max = np.argmax(arr)\n",
    "print(\"최소값의 index를 활용하여 배열의 최소값 출력: \", arr[index_min])\n",
    "print(\"최대값의 index를 활용하여 배열의 최대값 출력: \", arr[index_max])"
   ]
  },
  {
   "cell_type": "code",
   "execution_count": 101,
   "id": "2593ef2e",
   "metadata": {
    "scrolled": true
   },
   "outputs": [
    {
     "name": "stdout",
     "output_type": "stream",
     "text": [
      "리스트를 입력하세요(배열2 생성). 예시) [1,2,3,4]\n",
      ": [10,2,3]\n",
      "생성된 배열\n",
      ":  [10  2  3]\n",
      "최대값:  10\n",
      "최소값:  2\n",
      "최대값이 있는 index:  0\n",
      "최소값이 있는 index:  1\n"
     ]
    }
   ],
   "source": [
    "# 예제 6\n",
    "input_data = list(map(int, input(\"리스트를 입력하세요(배열2 생성). 예시) [1,2,3,4]\\n: \").split('[')[-1].split(']')[0].split(',')))\n",
    "arr = np.array(input_data) \n",
    "print(\"생성된 배열\\n: \", arr)\n",
    "\n",
    "print(\"최대값: \", np.max(arr))\n",
    "print(\"최소값: \", np.min(arr))\n",
    "print(\"최대값이 있는 index: \", np.argmax(arr))\n",
    "print(\"최소값이 있는 index: \", np.argmin(arr))"
   ]
  },
  {
   "cell_type": "markdown",
   "id": "f66c8570",
   "metadata": {},
   "source": [
    "## numpy 데이터의 읽기 및 쓰기"
   ]
  },
  {
   "cell_type": "code",
   "execution_count": 102,
   "id": "e25c9f94",
   "metadata": {},
   "outputs": [],
   "source": [
    "# save\n",
    "arr = np.array([1,2,3,4])\n",
    "np.save(\"save_data.npy\", arr) # 저장하기\n",
    "loaded_arr = np.load(\"save_data.npy\") # 불러오기"
   ]
  },
  {
   "cell_type": "code",
   "execution_count": 82,
   "id": "c3a5a30f",
   "metadata": {},
   "outputs": [],
   "source": [
    "# 예제 7\n",
    "input_data = list(map(int, input(\"리스트를 입력하세요(배열2 생성). 예시) [1,2,3,4]\\n: \").split('[')[-1].split(']')[0].split(',')))\n",
    "arr = np.array(input_data) \n",
    "\n",
    "# 저장하기\n",
    "np.save(\"save_data.npy\", arr)\n",
    "# 불러오기\n",
    "loaded_arr = np.load(\"save_data.npy\") "
   ]
  }
 ],
 "metadata": {
  "kernelspec": {
   "display_name": "Python 3 (ipykernel)",
   "language": "python",
   "name": "python3"
  },
  "language_info": {
   "codemirror_mode": {
    "name": "ipython",
    "version": 3
   },
   "file_extension": ".py",
   "mimetype": "text/x-python",
   "name": "python",
   "nbconvert_exporter": "python",
   "pygments_lexer": "ipython3",
   "version": "3.10.4"
  }
 },
 "nbformat": 4,
 "nbformat_minor": 5
}
