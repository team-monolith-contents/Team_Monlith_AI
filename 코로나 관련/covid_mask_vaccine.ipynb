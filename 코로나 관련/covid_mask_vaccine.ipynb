{
 "cells": [
  {
   "cell_type": "markdown",
   "id": "0e9de8e3-89fe-4a70-9136-b630a8f2d1cb",
   "metadata": {},
   "source": [
    "# [코들 오리지널] 구글 검색량 데이터 분석하기"
   ]
  },
  {
   "cell_type": "markdown",
   "id": "a72c1a02-278b-42fa-bc91-4f1dbf57a5cd",
   "metadata": {},
   "source": [
    "코로나는 2019년 12월 중국 우한에서 처음 보고되어 현재는 전 세계에 퍼져있는 바이러스이다. 사람들은 정보를 찾기 위해서 구글을 사용한다. 그렇다면 코로나와 관련된 키워드의 검색량은 어떻게 달라졌을까?"
   ]
  },
  {
   "cell_type": "markdown",
   "id": "49cace1f-6235-422d-8cfe-47064acc3e5e",
   "metadata": {},
   "source": [
    "1. 데이터 불러오기\n",
    "2. 그래프 색상 설정 및 범례 표시하기\n",
    "3. 제목 및 x축 y축 설정하기\n",
    "4. 각 그래프에서 최대값 찾기\n",
    "5. 최대값을 가지는 시간 가져오기\n",
    "6. 연도별 검색량 비교하기\n",
    "7. 백신과 코로나 그래프에서 차이지점 찾고 그 이유 추론하기\n",
    "8. 마스크와 코로나 그래프에서 차이지점 찾고 그 이유 추론하기"
   ]
  },
  {
   "cell_type": "markdown",
   "id": "cf659897-1620-430b-97c6-e5a99fe63ce8",
   "metadata": {},
   "source": [
    "### 예제 1.\n",
    "데이터를 불러와주세요.\n",
    "* `pd.read_csv`를 사용하면 파일을 데이터로 불러올 수 있어요.\n",
    "* 데이터의 앞부분 5개를 살펴보아요. `df.head` 함수를 사용하면 데이터의 앞부분을 반환해줘요"
   ]
  },
  {
   "cell_type": "code",
   "execution_count": 24,
   "id": "1a54c484-b261-41c5-ae33-190a12d2573b",
   "metadata": {
    "tags": [
     "jce.problems.1308.코로나.예제1"
    ]
   },
   "outputs": [
    {
     "data": {
      "text/html": [
       "<div>\n",
       "<style scoped>\n",
       "    .dataframe tbody tr th:only-of-type {\n",
       "        vertical-align: middle;\n",
       "    }\n",
       "\n",
       "    .dataframe tbody tr th {\n",
       "        vertical-align: top;\n",
       "    }\n",
       "\n",
       "    .dataframe thead th {\n",
       "        text-align: right;\n",
       "    }\n",
       "</style>\n",
       "<table border=\"1\" class=\"dataframe\">\n",
       "  <thead>\n",
       "    <tr style=\"text-align: right;\">\n",
       "      <th></th>\n",
       "      <th>코로나</th>\n",
       "      <th>마스크</th>\n",
       "      <th>year</th>\n",
       "      <th>month</th>\n",
       "      <th>day</th>\n",
       "      <th>백신</th>\n",
       "    </tr>\n",
       "  </thead>\n",
       "  <tbody>\n",
       "    <tr>\n",
       "      <th>0</th>\n",
       "      <td>0</td>\n",
       "      <td>3</td>\n",
       "      <td>2019</td>\n",
       "      <td>2</td>\n",
       "      <td>3</td>\n",
       "      <td>0</td>\n",
       "    </tr>\n",
       "    <tr>\n",
       "      <th>1</th>\n",
       "      <td>0</td>\n",
       "      <td>3</td>\n",
       "      <td>2019</td>\n",
       "      <td>2</td>\n",
       "      <td>10</td>\n",
       "      <td>0</td>\n",
       "    </tr>\n",
       "    <tr>\n",
       "      <th>2</th>\n",
       "      <td>0</td>\n",
       "      <td>4</td>\n",
       "      <td>2019</td>\n",
       "      <td>2</td>\n",
       "      <td>17</td>\n",
       "      <td>1</td>\n",
       "    </tr>\n",
       "    <tr>\n",
       "      <th>3</th>\n",
       "      <td>0</td>\n",
       "      <td>4</td>\n",
       "      <td>2019</td>\n",
       "      <td>2</td>\n",
       "      <td>24</td>\n",
       "      <td>1</td>\n",
       "    </tr>\n",
       "    <tr>\n",
       "      <th>4</th>\n",
       "      <td>0</td>\n",
       "      <td>12</td>\n",
       "      <td>2019</td>\n",
       "      <td>3</td>\n",
       "      <td>3</td>\n",
       "      <td>0</td>\n",
       "    </tr>\n",
       "  </tbody>\n",
       "</table>\n",
       "</div>"
      ],
      "text/plain": [
       "   코로나  마스크  year  month  day  백신\n",
       "0    0    3  2019      2    3   0\n",
       "1    0    3  2019      2   10   0\n",
       "2    0    4  2019      2   17   1\n",
       "3    0    4  2019      2   24   1\n",
       "4    0   12  2019      3    3   0"
      ]
     },
     "execution_count": 24,
     "metadata": {},
     "output_type": "execute_result"
    }
   ],
   "source": [
    "import pandas as pd # ㅔpandas 라이브러리를 불러옵니다. 관례적으로 pd라는 별칭을 사용합니다.\n",
    "\n",
    "df = pd.read_csv('covid.csv')\n",
    "# salt.csv 파일을 불러와서 df라는 이름의 데이터 프레임에 저장하기\n",
    "df.head() # 데이터의 앞부분을 출력한다\n",
    "\n",
    "# year, month, day - 해당 일자를 의미합니다\n",
    "# 코로나, 마스크, 백신 - 해당 키워드의 검색량을 의미합니다."
   ]
  },
  {
   "cell_type": "markdown",
   "id": "1050bbf6-65c8-49eb-b291-3940637fcd24",
   "metadata": {},
   "source": [
    "### 예제 2.\n",
    "코로나, 마스크, 백신의 변화가 시간에 따라 어떻게 이루어지는지 관찰할 수 있도록 그래프를 그려주세요.\n",
    "* `plt.plot(값, label='이름')`을 사용하면 값을 그릴 수 있습니다\n",
    "* `plt.legend()`를 사용하면 범례를 그릴 수 있습니다.\n",
    "* `plt.show()`를 사용하면 이때까지 그린 것을 출력할 수 있습니다."
   ]
  },
  {
   "cell_type": "code",
   "execution_count": 11,
   "id": "52275de6-d7f4-407f-ae47-ecef5ad7f08c",
   "metadata": {
    "tags": [
     "jce.problems.1308.코로나.예제2"
    ]
   },
   "outputs": [
    {
     "data": {
      "image/png": "[encoded data removed]",
      "text/plain": [
       "<Figure size 432x288 with 1 Axes>"
      ]
     },
     "metadata": {
      "needs_background": "light"
     },
     "output_type": "display_data"
    }
   ],
   "source": [
    "import matplotlib.pyplot as plt\n",
    "\n",
    "plt.plot(df['코로나'], label='코로나')\n",
    "plt.plot(df['마스크'], label='마스크')\n",
    "plt.plot(df['백신'], label='백신')\n",
    "plt.legend()\n",
    "plt.show()"
   ]
  },
  {
   "cell_type": "markdown",
   "id": "9bd73c31-d09b-42c3-a844-992a36dcdb0a",
   "metadata": {},
   "source": [
    "### 예제 3.\n",
    "앞서 그린 그래프에 표의 제목과 x, y축의 제목을 설정해주세요.\n",
    "* `plt.title(이름)`을 사용하면 제목을 설정할 수 있습니다\n",
    "* `plt.xlabel(이름)`을 사용하면 x축의 이름을 지어줄 수 있습니다.\n",
    "* `plt.ylabel(이름)`을 사용하면 y축의 이름을 지어줄 수 있습니다."
   ]
  },
  {
   "cell_type": "code",
   "execution_count": 21,
   "id": "ac9629a4-a968-44b5-9e51-a33c94ca3517",
   "metadata": {
    "tags": [
     "jce.problems.1308.코로나.예제3"
    ]
   },
   "outputs": [
    {
     "data": {
      "image/png": "[encoded data removed]",
      "text/plain": [
       "<Figure size 432x288 with 1 Axes>"
      ]
     },
     "metadata": {
      "needs_background": "light"
     },
     "output_type": "display_data"
    }
   ],
   "source": [
    "plt.plot(df['코로나'], label='코로나')\n",
    "plt.plot(df['마스크'], label='마스크')\n",
    "plt.plot(df['백신'], label='백신')\n",
    "plt.legend()\n",
    "\n",
    "plt.title('코로나, 마스크, 백신의 시간 별 검색량')\n",
    "plt.xlabel('시간 순서')\n",
    "plt.ylabel('검색량')\n",
    "plt.show()"
   ]
  },
  {
   "cell_type": "markdown",
   "id": "321a4e63-c993-4ef7-b11b-1d1fb3778ffb",
   "metadata": {},
   "source": [
    "### 예제 4.\n",
    "`코로나`, `마스크`, `백신` 각 용어 별로 검색량의 최대값을 찾아 출력해주세요.\n",
    "* `df[<column 이름>]`을 사용하면 데이터에서 그 이름을 가지는 열을 가져올 수 있어요.\n",
    "* 가져온 열에서 `max` 함수를 호출하면 그 열의 최대값을 가져올 수 있어요."
   ]
  },
  {
   "cell_type": "code",
   "execution_count": 22,
   "id": "6340f4c1-ba3b-4f0c-9771-d51e8570d1af",
   "metadata": {
    "tags": [
     "jce.problems.1308.코로나.예제4"
    ]
   },
   "outputs": [
    {
     "name": "stdout",
     "output_type": "stream",
     "text": [
      "100 100 100\n"
     ]
    }
   ],
   "source": [
    "corona_max = df['코로나'].max()\n",
    "mask_max = df['마스크'].max()\n",
    "vaccine_max = df['백신'].max()\n",
    "print(corona_max, mask_max, vaccine_max)"
   ]
  },
  {
   "cell_type": "markdown",
   "id": "6c201c69-bb4d-4893-9c8d-8e1cac232e9f",
   "metadata": {},
   "source": [
    "### 예제 5.\n",
    "* `df[df[<column 이름>] == 값]`을 사용하면 그 열이 해당 값인 모든 행을 가져올 수 있어요."
   ]
  },
  {
   "cell_type": "code",
   "execution_count": 23,
   "id": "43ec06c1-d312-4dc3-8f33-4e670bc1eda3",
   "metadata": {
    "tags": [
     "jce.problems.1308.코로나.예제5"
    ]
   },
   "outputs": [
    {
     "name": "stdout",
     "output_type": "stream",
     "text": [
      "    코로나  마스크  year  month  day  백신\n",
      "61  100   27  2020      4    5   2\n",
      "    코로나  마스크  year  month  day  백신\n",
      "56   51  100  2020      3    1   2\n",
      "     코로나  마스크  year  month  day   백신\n",
      "128   47    9  2021      7   18  100\n"
     ]
    }
   ],
   "source": [
    "print(df[df['코로나'] == corona_max]) # 2020년 4월 5일\n",
    "print(df[df['마스크'] == mask_max]) # 2020년 3월 1일\n",
    "print(df[df['백신'] == vaccine_max]) # 2021년 7월 18일"
   ]
  },
  {
   "cell_type": "markdown",
   "id": "a404aa37-b4d8-4aad-af20-7fe39158915e",
   "metadata": {},
   "source": [
    "### 예제 6.\n",
    "코로나와 마스크의 추이가 비슷한 이유를 추론해보고, 그에 알맞은 사건을 하나 제시하세요."
   ]
  },
  {
   "cell_type": "markdown",
   "id": "ee79d6ae-7bcf-4a03-b8e9-77b96edac80c",
   "metadata": {
    "tags": [
     "jce.problems.1308.코로나.예제6"
    ]
   },
   "source": [
    "코로나가 퍼지면서 마스크의 수요가 증가했을 것이다. 예시) 마스크 대란"
   ]
  },
  {
   "cell_type": "markdown",
   "id": "ecf9eb85-9ecf-4ef3-accc-41779dcaa2b7",
   "metadata": {},
   "source": [
    "### 예제 7.\n",
    "코로나와 백신의 추이가 다른 이유를 추론해보고, 그에 알맞은 사건을 하나 제시하세요."
   ]
  },
  {
   "cell_type": "markdown",
   "id": "991d73d5-3309-4462-92df-6d2cd0c88f06",
   "metadata": {
    "tags": [
     "jce.problems.1308.코로나.예제7"
    ]
   },
   "source": [
    "코로나가 퍼지고 나서 백신에 대한 소식이 들려오며 검색량이 증가했을 것이다. 예시) 백신 개발 관련 뉴스"
   ]
  },
  {
   "cell_type": "markdown",
   "id": "565fd780-2d12-4158-9a90-8b7c5c0e46c2",
   "metadata": {},
   "source": [
    "### 예제 8.\n",
    "추가적으로 분석할 것이 있으면 자유롭게 분석해 주세요."
   ]
  },
  {
   "cell_type": "markdown",
   "id": "16bd63b7-12b6-4bea-af00-bd53de37faa8",
   "metadata": {
    "tags": [
     "jce.problems.1308.코로나.예제8"
    ]
   },
   "source": [
    "코로나 그래프는 마스크에 비해 많은 피크가 있다. 마스크는 초반에는 수요가 커 공급 대란이 일어났지만, 후반에는 공급이 안정화되었기 때문에 후반에는 코로나에 비해 검색량이 줄어든듯 하다."
   ]
  },
  {
   "cell_type": "code",
   "execution_count": null,
   "id": "638a0d3c-d5e3-4a4c-adbf-c5db77801fcd",
   "metadata": {},
   "outputs": [],
   "source": []
  }
 ],
 "metadata": {
  "kernelspec": {
   "display_name": "Python 3 (ipykernel)",
   "language": "python",
   "name": "python3"
  },
  "language_info": {
   "codemirror_mode": {
    "name": "ipython",
    "version": 3
   },
   "file_extension": ".py",
   "mimetype": "text/x-python",
   "name": "python",
   "nbconvert_exporter": "python",
   "pygments_lexer": "ipython3",
   "version": "3.10.4"
  }
 },
 "nbformat": 4,
 "nbformat_minor": 5
}
